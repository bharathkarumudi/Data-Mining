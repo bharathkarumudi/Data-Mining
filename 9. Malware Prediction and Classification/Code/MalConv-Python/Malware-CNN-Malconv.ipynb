{
 "cells": [
  {
   "cell_type": "markdown",
   "metadata": {},
   "source": [
    "### Malware Analysis Using Neural Networks"
   ]
  },
  {
   "cell_type": "markdown",
   "metadata": {},
   "source": [
    "In this implementation, we will be leveraging the Nvidia Malconv Architecture [1] to build the model for predicting and classifying the Malware.  \n",
    "Below is the reference architecture and our implementation process:\n",
    "\n",
    "<img src=\"Malconv-arc.png\" alt=\"Malconv Architecture\" height=\"300\" width=\"500\"/>"
   ]
  },
  {
   "cell_type": "code",
   "execution_count": 1,
   "metadata": {},
   "outputs": [
    {
     "name": "stderr",
     "output_type": "stream",
     "text": [
      "Using TensorFlow backend.\n"
     ]
    }
   ],
   "source": [
    "#Importing required libraries\n",
    "import re\n",
    "import collections\n",
    "from os import listdir\n",
    "from os.path import isfile, join\n",
    "import binascii\n",
    "import numpy as np\n",
    "import pandas as pd\n",
    "import keras\n",
    "from keras.utils import to_categorical\n",
    "import matplotlib.pyplot as plt\n",
    "import datetime"
   ]
  },
  {
   "cell_type": "code",
   "execution_count": 2,
   "metadata": {},
   "outputs": [
    {
     "name": "stdout",
     "output_type": "stream",
     "text": [
      "2019-12-01 19:30:44.594837\n"
     ]
    }
   ],
   "source": [
    "print (datetime.datetime.now())"
   ]
  },
  {
   "cell_type": "markdown",
   "metadata": {},
   "source": [
    "### Data Engineering\n",
    " \n",
    "**Pre-requistes:**\n",
    "1. Place the train_dataset and test_dataset in two directories.  \n",
    "2. Run the shell script which will split the train dataset into train and test for modeling.  \n",
    "\n",
    "We will clean the byte sequences for any unknown characters and do the embedding by converting the input to a numerical format - each byte into an eight dimensional vector. "
   ]
  },
  {
   "cell_type": "code",
   "execution_count": 3,
   "metadata": {},
   "outputs": [],
   "source": [
    "#Input files Paths\n",
    "TrainLabelspath = \"/mnt/disks/MLProject/data/r_TrainLabels.csv\"\n",
    "TestLabelspath = \"/mnt/disks/MLProject/data/r_Testlabels.csv\" \n",
    "\n",
    "TraindatasetPath = \"/mnt/disks/MLProject/data/r_train_dataset/\"\n",
    "TestdatasetPath = \"/mnt/disks/MLProject/data/r_test_dataset/\""
   ]
  },
  {
   "cell_type": "code",
   "execution_count": 4,
   "metadata": {},
   "outputs": [],
   "source": [
    "#Method for Cleaning the bytes\n",
    "def cleanByteSequence(byteSequence):\n",
    "    dataStr = str(byteSequence)\n",
    "    dataStr = dataStr[2:]\n",
    "    dataStr = dataStr.replace(\"\\\\r\\\\n\", \" \")\n",
    "    dataStr2 = re.sub(r'\\b\\w{8}\\b','',dataStr)\n",
    "    dataStr3 = re.sub(r'\\s+',\" \", dataStr2)\n",
    "    return dataStr3\n",
    "\n",
    "def readFile(filePath):\n",
    "    with open(filePath, \"rb\") as binary_file:\n",
    "        data = binary_file.read()\n",
    "        return data\n",
    "\n",
    "#Method of Embedding bytes\n",
    "def embedByte(hex_string):\n",
    "    scale = 16\n",
    "    num_of_bits = 8\n",
    "    if(hex_string[0] ==\"?\"):\n",
    "        hex_string = \"00\"\n",
    "    if(hex_string[1] == \"?\"):\n",
    "        hex_string[1] = \"00\"\n",
    "        \n",
    "    binary_string = bin(int(hex_string, scale)) [2:].zfill(num_of_bits)\n",
    "    vec = np.zeros(8)\n",
    "    for i in range(8):\n",
    "        if(binary_string[i]==\"1\"):\n",
    "            vec[i]=float(1)/16\n",
    "        else:\n",
    "            vec[i]=-float(1)/16\n",
    "            \n",
    "    return vec"
   ]
  },
  {
   "cell_type": "code",
   "execution_count": 5,
   "metadata": {},
   "outputs": [
    {
     "name": "stdout",
     "output_type": "stream",
     "text": [
      "10100110\n",
      "[ 0.0625 -0.0625  0.0625 -0.0625 -0.0625  0.0625  0.0625 -0.0625]\n"
     ]
    }
   ],
   "source": [
    "#Embedding - Converting the input to a numerical format.\n",
    "#Embed each byte into a eight dimensional vector.\n",
    "# 1 -> 1/16 and 0 -> -1/16\n",
    "hex_string = \"A6\"\n",
    "scale = 16\n",
    "num_of_bits = 8\n",
    "binary_string = bin(int(hex_string, scale)) [2:].zfill(num_of_bits)\n",
    "print(binary_string)\n",
    "print(embedByte(hex_string))"
   ]
  },
  {
   "cell_type": "code",
   "execution_count": 6,
   "metadata": {},
   "outputs": [
    {
     "name": "stdout",
     "output_type": "stream",
     "text": [
      "2019-12-01 19:30:44.675101\n"
     ]
    }
   ],
   "source": [
    "print(datetime.datetime.now())"
   ]
  },
  {
   "cell_type": "code",
   "execution_count": 7,
   "metadata": {},
   "outputs": [],
   "source": [
    "samples = [f for f in listdir(TraindatasetPath) if isfile(join(TraindatasetPath, f))]\n",
    "data = pd.read_csv(TrainLabelspath)\n",
    "targetDict = data.set_index('Id').T.to_dict('records')[0]"
   ]
  },
  {
   "cell_type": "code",
   "execution_count": 8,
   "metadata": {},
   "outputs": [],
   "source": [
    "#Reading Samples\n",
    "max_size = 30000      #Number of bytes to read per sample\n",
    "num_samples = len(samples)\n",
    "Train_X = np.zeros((num_samples, 8, max_size))\n",
    "Train_Y = np.zeros(num_samples)\n",
    "fileNum = 0\n",
    "for file in samples:\n",
    "    filePath = join(TraindatasetPath, file)\n",
    "    sampleByteSequence = readFile(filePath)\n",
    "    #print(fileNum)\n",
    "    cleanedByteSequence = cleanByteSequence(sampleByteSequence)\n",
    "    splitByteSequence = cleanedByteSequence.strip().split(\" \")\n",
    "    Train_Y[fileNum] = targetDict[file.split(\".\")[0]]       #Stores the labels\n",
    "    \n",
    "    for i in range(min(max_size, len(splitByteSequence))):\n",
    "        Train_X[fileNum,:,i] = embedByte(splitByteSequence[i]) #All embeded data \n",
    "    fileNum += 1"
   ]
  },
  {
   "cell_type": "code",
   "execution_count": 9,
   "metadata": {},
   "outputs": [
    {
     "name": "stdout",
     "output_type": "stream",
     "text": [
      "2019-12-01 20:53:18.627009\n"
     ]
    }
   ],
   "source": [
    "print(datetime.datetime.now())"
   ]
  },
  {
   "cell_type": "code",
   "execution_count": 10,
   "metadata": {},
   "outputs": [
    {
     "name": "stdout",
     "output_type": "stream",
     "text": [
      "[[0. 0. 0. ... 0. 0. 0.]\n",
      " [1. 0. 0. ... 0. 0. 0.]\n",
      " [0. 0. 0. ... 0. 1. 0.]\n",
      " ...\n",
      " [0. 0. 0. ... 0. 0. 1.]\n",
      " [0. 1. 0. ... 0. 0. 0.]\n",
      " [0. 1. 0. ... 0. 0. 0.]]\n",
      "(6520, 9)\n"
     ]
    }
   ],
   "source": [
    "#Convert lables to categorical form\n",
    "Train_Y_one_hot = to_categorical(Train_Y-1)\n",
    "print(Train_Y_one_hot)\n",
    "print(Train_Y_one_hot.shape)"
   ]
  },
  {
   "cell_type": "markdown",
   "metadata": {},
   "source": [
    "### Building the Model\n",
    "Using Keras functional API, we will take two convolutions - conv1 and conv2 and then activate one of the convolutions, say conv2, sigmoid. We then multiply the Activated convolution and  non activated convolution and activate the final result - relu."
   ]
  },
  {
   "cell_type": "code",
   "execution_count": 11,
   "metadata": {},
   "outputs": [],
   "source": [
    "num_classes = 9\n",
    "from keras import optimizers\n",
    "from keras import Input\n",
    "from keras.layers import Conv1D\n",
    "from keras.layers import Activation \n",
    "from keras.layers import multiply\n",
    "from keras.layers import GlobalMaxPool1D\n",
    "from keras.layers import Dense\n",
    "from keras import Model"
   ]
  },
  {
   "cell_type": "code",
   "execution_count": 12,
   "metadata": {},
   "outputs": [],
   "source": [
    "opt = optimizers.SGD(lr=0.01, decay=1e-6, momentum=0.9, nesterov=True) #Model parameters"
   ]
  },
  {
   "cell_type": "code",
   "execution_count": 13,
   "metadata": {},
   "outputs": [],
   "source": [
    "inputs = Input(shape=(8,max_size)) #Inputs for Conv"
   ]
  },
  {
   "cell_type": "code",
   "execution_count": 14,
   "metadata": {},
   "outputs": [],
   "source": [
    "conv1 = Conv1D(kernel_size=(128), filters=32, strides=(128), padding='same')(inputs)"
   ]
  },
  {
   "cell_type": "code",
   "execution_count": 15,
   "metadata": {},
   "outputs": [],
   "source": [
    "conv2 = Conv1D(kernel_size=(128), filters=32, strides=(128), padding='same')(inputs)"
   ]
  },
  {
   "cell_type": "code",
   "execution_count": 16,
   "metadata": {},
   "outputs": [],
   "source": [
    "a = Activation('sigmoid', name='sigmoid')(conv2)  #Activation"
   ]
  },
  {
   "cell_type": "code",
   "execution_count": 17,
   "metadata": {},
   "outputs": [],
   "source": [
    "mul = multiply([conv1, a]) #Multiplying Activated one and Non-Activated one."
   ]
  },
  {
   "cell_type": "code",
   "execution_count": 18,
   "metadata": {},
   "outputs": [],
   "source": [
    "a = Activation('relu', name='relu')(mul) #Activating the result - mul"
   ]
  },
  {
   "cell_type": "code",
   "execution_count": 19,
   "metadata": {},
   "outputs": [],
   "source": [
    "p = GlobalMaxPool1D()(a)"
   ]
  },
  {
   "cell_type": "code",
   "execution_count": 20,
   "metadata": {},
   "outputs": [],
   "source": [
    "d = Dense(16)(p)"
   ]
  },
  {
   "cell_type": "code",
   "execution_count": 21,
   "metadata": {},
   "outputs": [],
   "source": [
    "predictions = Dense(num_classes, activation = 'sigmoid') (d)"
   ]
  },
  {
   "cell_type": "code",
   "execution_count": 22,
   "metadata": {},
   "outputs": [],
   "source": [
    "model = Model(inputs=inputs, outputs=predictions)"
   ]
  },
  {
   "cell_type": "code",
   "execution_count": 23,
   "metadata": {},
   "outputs": [],
   "source": [
    "model.compile(optimizer=opt, loss='categorical_crossentropy', metrics=['acc'])"
   ]
  },
  {
   "cell_type": "markdown",
   "metadata": {},
   "source": [
    "##### Model summary:"
   ]
  },
  {
   "cell_type": "code",
   "execution_count": 24,
   "metadata": {},
   "outputs": [
    {
     "name": "stdout",
     "output_type": "stream",
     "text": [
      "Model: \"model_1\"\n",
      "__________________________________________________________________________________________________\n",
      "Layer (type)                    Output Shape         Param #     Connected to                     \n",
      "==================================================================================================\n",
      "input_1 (InputLayer)            (None, 8, 30000)     0                                            \n",
      "__________________________________________________________________________________________________\n",
      "conv1d_2 (Conv1D)               (None, 1, 32)        122880032   input_1[0][0]                    \n",
      "__________________________________________________________________________________________________\n",
      "conv1d_1 (Conv1D)               (None, 1, 32)        122880032   input_1[0][0]                    \n",
      "__________________________________________________________________________________________________\n",
      "sigmoid (Activation)            (None, 1, 32)        0           conv1d_2[0][0]                   \n",
      "__________________________________________________________________________________________________\n",
      "multiply_1 (Multiply)           (None, 1, 32)        0           conv1d_1[0][0]                   \n",
      "                                                                 sigmoid[0][0]                    \n",
      "__________________________________________________________________________________________________\n",
      "relu (Activation)               (None, 1, 32)        0           multiply_1[0][0]                 \n",
      "__________________________________________________________________________________________________\n",
      "global_max_pooling1d_1 (GlobalM (None, 32)           0           relu[0][0]                       \n",
      "__________________________________________________________________________________________________\n",
      "dense_1 (Dense)                 (None, 16)           528         global_max_pooling1d_1[0][0]     \n",
      "__________________________________________________________________________________________________\n",
      "dense_2 (Dense)                 (None, 9)            153         dense_1[0][0]                    \n",
      "==================================================================================================\n",
      "Total params: 245,760,745\n",
      "Trainable params: 245,760,745\n",
      "Non-trainable params: 0\n",
      "__________________________________________________________________________________________________\n"
     ]
    }
   ],
   "source": [
    "model.summary()"
   ]
  },
  {
   "cell_type": "markdown",
   "metadata": {},
   "source": [
    "### Training the Model with Train Dataset\n",
    "Subset of given Train dataset"
   ]
  },
  {
   "cell_type": "code",
   "execution_count": 25,
   "metadata": {},
   "outputs": [],
   "source": [
    "#Dividing the dataset into multiple batches\n",
    "batch_size = 16   \n",
    "num_batches = int(num_samples/batch_size)\n",
    "\n",
    "for batch_num in range(num_batches):\n",
    "    batch = Train_X[batch_num * batch_size:(batch_num+1)*batch_size]\n",
    "    model.train_on_batch(batch, Train_Y_one_hot[batch_num * batch_size:(batch_num+1)*batch_size])"
   ]
  },
  {
   "cell_type": "code",
   "execution_count": 26,
   "metadata": {},
   "outputs": [],
   "source": [
    "#Model predict on Train dataset\n",
    "pred = model.predict(Train_X)"
   ]
  },
  {
   "cell_type": "code",
   "execution_count": 27,
   "metadata": {},
   "outputs": [
    {
     "data": {
      "text/plain": [
       "array([[1.8636015e-01, 3.4818327e-01, 1.4707336e-01, ..., 1.3202521e-01,\n",
       "        1.9714361e-01, 3.8580161e-01],\n",
       "       [3.5007238e-02, 7.8141689e-05, 2.8371811e-05, ..., 1.6987324e-06,\n",
       "        3.8442016e-04, 9.7614527e-04],\n",
       "       [0.0000000e+00, 0.0000000e+00, 0.0000000e+00, ..., 0.0000000e+00,\n",
       "        7.8418374e-01, 4.6789646e-06],\n",
       "       ...,\n",
       "       [1.3202429e-04, 3.4987926e-04, 6.3002110e-05, ..., 7.7486038e-07,\n",
       "        2.7793646e-04, 8.3729100e-01],\n",
       "       [1.2931228e-04, 6.0163766e-01, 0.0000000e+00, ..., 2.3841858e-07,\n",
       "        4.7683716e-07, 3.0022860e-04],\n",
       "       [7.8626871e-03, 8.9940429e-04, 1.4007092e-06, ..., 2.4139881e-06,\n",
       "        1.4075637e-04, 5.2276254e-04]], dtype=float32)"
      ]
     },
     "execution_count": 27,
     "metadata": {},
     "output_type": "execute_result"
    }
   ],
   "source": [
    "pred"
   ]
  },
  {
   "cell_type": "code",
   "execution_count": 28,
   "metadata": {},
   "outputs": [],
   "source": [
    "pred_label = []\n",
    "for row in pred:\n",
    "    pred_label.append(np.argmax(row))"
   ]
  },
  {
   "cell_type": "code",
   "execution_count": 29,
   "metadata": {},
   "outputs": [
    {
     "name": "stdout",
     "output_type": "stream",
     "text": [
      "[5. 0. 7. ... 8. 1. 1.]\n"
     ]
    }
   ],
   "source": [
    "Train_Y_np = np.asarray(Train_Y-1)\n",
    "print(Train_Y_np)"
   ]
  },
  {
   "cell_type": "code",
   "execution_count": 30,
   "metadata": {},
   "outputs": [],
   "source": [
    "#pred_label  #To see the predicted labels. Commented for readability and debugging"
   ]
  },
  {
   "cell_type": "code",
   "execution_count": 32,
   "metadata": {},
   "outputs": [
    {
     "data": {
      "text/plain": [
       "'97.62269938650306%'"
      ]
     },
     "execution_count": 32,
     "metadata": {},
     "output_type": "execute_result"
    }
   ],
   "source": [
    "#Train Model Accuracy\n",
    "str(sum(pred_label == Train_Y_np)/len(Train_Y_np)*100)+\"%\""
   ]
  },
  {
   "cell_type": "code",
   "execution_count": 31,
   "metadata": {},
   "outputs": [
    {
     "data": {
      "text/plain": [
       "(array([ 912., 1497., 1760.,  278.,    0.,    6.,  455.,  227.,  795.,\n",
       "         590.]),\n",
       " array([0. , 0.8, 1.6, 2.4, 3.2, 4. , 4.8, 5.6, 6.4, 7.2, 8. ]),\n",
       " <a list of 10 Patch objects>)"
      ]
     },
     "execution_count": 31,
     "metadata": {},
     "output_type": "execute_result"
    },
    {
     "data": {
      "image/png": "[encoded data removed]",
      "text/plain": [
       "<Figure size 432x288 with 1 Axes>"
      ]
     },
     "metadata": {
      "needs_background": "light"
     },
     "output_type": "display_data"
    }
   ],
   "source": [
    "#Plotting a histogram to show the label distribution\n",
    "plt.hist(pred_label)"
   ]
  },
  {
   "cell_type": "code",
   "execution_count": 33,
   "metadata": {},
   "outputs": [
    {
     "name": "stdout",
     "output_type": "stream",
     "text": [
      "2019-12-01 21:19:11.688610\n"
     ]
    }
   ],
   "source": [
    "print(datetime.datetime.now())"
   ]
  },
  {
   "cell_type": "markdown",
   "metadata": {},
   "source": [
    "### Testing the Model\n",
    "Running the model on our Test dataset (which is a split from \"given\" Train dataset)."
   ]
  },
  {
   "cell_type": "code",
   "execution_count": 34,
   "metadata": {},
   "outputs": [],
   "source": [
    "testSamples = [f for f in listdir(TestdatasetPath) if isfile(join(TestdatasetPath, f))]\n",
    "num_samples = len(testSamples)\n",
    "data_test = pd.read_csv(TestLabelspath)\n",
    "targetDict_test = data_test.set_index('Id').T.to_dict('records')[0]"
   ]
  },
  {
   "cell_type": "code",
   "execution_count": 35,
   "metadata": {},
   "outputs": [],
   "source": [
    "Test_X = np.zeros((num_samples, 8, max_size))\n",
    "Test_Y = np.zeros(num_samples)\n",
    "fileNum = 0\n",
    "\n",
    "for file in testSamples:\n",
    "    filePath = join(TestdatasetPath, file)\n",
    "    sampleByteSequence = readFile(filePath)\n",
    "    #print(fileNum)\n",
    "    cleanedByteSequence = cleanByteSequence(sampleByteSequence)\n",
    "    splitByteSequence = cleanedByteSequence.strip().split(\" \")\n",
    "    Test_Y[fileNum] = targetDict_test[file.split(\".\")[0]]\n",
    "    for i in range(min(max_size, len(splitByteSequence))):\n",
    "        Test_X[fileNum,:,i] = embedByte(splitByteSequence[i])\n",
    "    fileNum += 1"
   ]
  },
  {
   "cell_type": "code",
   "execution_count": 36,
   "metadata": {},
   "outputs": [],
   "source": [
    "#Predictions on Test dataset using the built model\n",
    "Test_Y_np = np.asarray(Test_Y-1)\n",
    "Test_Y_pred = model.predict(Test_X)\n",
    "Test_Y_pred_label = []\n",
    "for row in Test_Y_pred:\n",
    "    Test_Y_pred_label.append(np.argmax(row))"
   ]
  },
  {
   "cell_type": "code",
   "execution_count": 37,
   "metadata": {},
   "outputs": [
    {
     "data": {
      "text/plain": [
       "'89.44342226310947%'"
      ]
     },
     "execution_count": 37,
     "metadata": {},
     "output_type": "execute_result"
    }
   ],
   "source": [
    "#Test Model Accuracy\n",
    "str(sum(Test_Y_pred_label == Test_Y_np)/len(Test_Y_np)*100)+\"%\""
   ]
  },
  {
   "cell_type": "code",
   "execution_count": 38,
   "metadata": {},
   "outputs": [
    {
     "data": {
      "text/plain": [
       "(array([ 645.,  978., 1179.,  132.,    0.,    0.,  282.,  142.,  497.,\n",
       "         493.]),\n",
       " array([0. , 0.8, 1.6, 2.4, 3.2, 4. , 4.8, 5.6, 6.4, 7.2, 8. ]),\n",
       " <a list of 10 Patch objects>)"
      ]
     },
     "execution_count": 38,
     "metadata": {},
     "output_type": "execute_result"
    },
    {
     "data": {
      "image/png": "[encoded data removed]",
      "text/plain": [
       "<Figure size 432x288 with 1 Axes>"
      ]
     },
     "metadata": {
      "needs_background": "light"
     },
     "output_type": "display_data"
    }
   ],
   "source": [
    "#Plotting a histogram to show the label distribution\n",
    "plt.hist(Test_Y_pred_label)"
   ]
  },
  {
   "cell_type": "code",
   "execution_count": 39,
   "metadata": {},
   "outputs": [
    {
     "name": "stdout",
     "output_type": "stream",
     "text": [
      "2019-12-01 22:16:15.829232\n"
     ]
    }
   ],
   "source": [
    "print(datetime.datetime.now())"
   ]
  },
  {
   "cell_type": "markdown",
   "metadata": {},
   "source": [
    "### Predict on Test Dataset\n",
    "Running the model to predict the classification on the \"given\" Test dataset, which don't have labels.  \n",
    "The dataset is divided into two to optimize the memory and it is nearly same code with different test files."
   ]
  },
  {
   "cell_type": "code",
   "execution_count": 40,
   "metadata": {},
   "outputs": [
    {
     "name": "stdout",
     "output_type": "stream",
     "text": [
      "2019-12-01 22:16:15.834289\n"
     ]
    }
   ],
   "source": [
    "print(datetime.datetime.now())"
   ]
  },
  {
   "cell_type": "code",
   "execution_count": 41,
   "metadata": {},
   "outputs": [],
   "source": [
    "#Original Test Dataset and dummy Labels file.\n",
    "o_TestLabelspath = \"/mnt/disks/MLProject/data/testLabels.csv\" \n",
    "o_TestdatasetPath = \"/mnt/disks/MLProject/data/test_dataset\"\n",
    "\n",
    "testSamples = [f for f in listdir(o_TestdatasetPath) if isfile(join(o_TestdatasetPath, f))]\n",
    "#Readiing the first half of the dataset\n",
    "testSamples = testSamples[:5000] \n",
    "\n",
    "num_samples = len(testSamples)\n",
    "data_test = pd.read_csv(o_TestLabelspath)\n",
    "targetDict_test_o = data_test.set_index('Id').T.to_dict('records')[0]\n",
    "\n",
    "Testo_X = np.zeros((num_samples, 8, max_size))\n",
    "Testo_Y = np.zeros(num_samples)\n",
    "fileNum = 0\n",
    "\n",
    "for file in testSamples:\n",
    "    filePath = join(o_TestdatasetPath, file)\n",
    "    sampleByteSequence = readFile(filePath)\n",
    "    cleanedByteSequence = cleanByteSequence(sampleByteSequence)\n",
    "    splitByteSequence = cleanedByteSequence.strip().split(\" \")\n",
    "    Testo_Y[fileNum] = targetDict_test_o[file.split(\".\")[0]]\n",
    "    for i in range(min(max_size, len(splitByteSequence))):\n",
    "        Testo_X[fileNum,:,i] = embedByte(splitByteSequence[i])\n",
    "    fileNum += 1\n",
    "\n",
    "Testo_Y_np = np.asarray(Testo_Y-1)\n",
    "Testo_Y_pred = model.predict(Testo_X)\n",
    "Testo_Y_pred_label = []\n",
    "\n",
    "for row in Testo_Y_pred:\n",
    "    Testo_Y_pred_label.append(np.argmax(row))\n",
    "  \n"
   ]
  },
  {
   "cell_type": "code",
   "execution_count": 42,
   "metadata": {},
   "outputs": [
    {
     "name": "stdout",
     "output_type": "stream",
     "text": [
      "2019-12-01 23:21:47.423102\n"
     ]
    }
   ],
   "source": [
    "print(datetime.datetime.now())"
   ]
  },
  {
   "cell_type": "code",
   "execution_count": 43,
   "metadata": {},
   "outputs": [],
   "source": [
    "o_TestLabelspath = \"/mnt/disks/MLProject/data/testLabels.csv\" \n",
    "o_TestdatasetPath = \"/mnt/disks/MLProject/data/test_dataset\"\n",
    "\n",
    "testSamples = [f for f in listdir(o_TestdatasetPath) if isfile(join(o_TestdatasetPath, f))]\n",
    "#Reading the second half of the dataset\n",
    "testSamples = testSamples[5000:]\n",
    "\n",
    "num_samples = len(testSamples)\n",
    "data_test = pd.read_csv(o_TestLabelspath)\n",
    "targetDict_test_o = data_test.set_index('Id').T.to_dict('records')[0]\n",
    "\n",
    "Testo_X = np.zeros((num_samples, 8, max_size))\n",
    "Testo_Y = np.zeros(num_samples)\n",
    "fileNum = 0\n",
    "\n",
    "for file in testSamples:\n",
    "    filePath = join(o_TestdatasetPath, file)\n",
    "    sampleByteSequence = readFile(filePath)\n",
    "    cleanedByteSequence = cleanByteSequence(sampleByteSequence)\n",
    "    splitByteSequence = cleanedByteSequence.strip().split(\" \")\n",
    "    Testo_Y[fileNum] = targetDict_test_o[file.split(\".\")[0]]\n",
    "    for i in range(min(max_size, len(splitByteSequence))):\n",
    "        Testo_X[fileNum,:,i] = embedByte(splitByteSequence[i])\n",
    "    fileNum += 1\n",
    "\n",
    "Testo_Y_np = np.asarray(Testo_Y-1)\n",
    "Testo_Y_pred = model.predict(Testo_X)\n",
    "Testo_Y_pred_label_2 = []\n",
    "\n",
    "for row in Testo_Y_pred:\n",
    "    Testo_Y_pred_label_2.append(np.argmax(row))"
   ]
  },
  {
   "cell_type": "code",
   "execution_count": 44,
   "metadata": {},
   "outputs": [],
   "source": [
    "#Merging the two test results\n",
    "for i in Testo_Y_pred_label_2 : \n",
    "    Testo_Y_pred_label.append(i) "
   ]
  },
  {
   "cell_type": "code",
   "execution_count": 45,
   "metadata": {},
   "outputs": [
    {
     "data": {
      "text/plain": [
       "(array([1.529e+03, 2.470e+03, 2.930e+03, 3.320e+02, 0.000e+00, 1.000e+00,\n",
       "        7.350e+02, 3.530e+02, 1.291e+03, 1.232e+03]),\n",
       " array([0. , 0.8, 1.6, 2.4, 3.2, 4. , 4.8, 5.6, 6.4, 7.2, 8. ]),\n",
       " <a list of 10 Patch objects>)"
      ]
     },
     "execution_count": 45,
     "metadata": {},
     "output_type": "execute_result"
    },
    {
     "data": {
      "image/png": "[encoded data removed]",
      "text/plain": [
       "<Figure size 432x288 with 1 Axes>"
      ]
     },
     "metadata": {
      "needs_background": "light"
     },
     "output_type": "display_data"
    }
   ],
   "source": [
    "#Plotting the Malware distribution for Test Dataset (All 10K files)\n",
    "plt.hist(Testo_Y_pred_label)"
   ]
  },
  {
   "cell_type": "code",
   "execution_count": 46,
   "metadata": {},
   "outputs": [
    {
     "name": "stdout",
     "output_type": "stream",
     "text": [
      "2019-12-02 00:38:33.748126\n"
     ]
    }
   ],
   "source": [
    "print(datetime.datetime.now())"
   ]
  },
  {
   "cell_type": "markdown",
   "metadata": {},
   "source": [
    "### References:   \n",
    "[1] Raff, E., Barker, J., Sylvester, J., Brandon, R., Catanzaro, B., & Nicholas, C.K. (2017). Malware Detection by Eating a Whole EXE. ArXiv, abs/1710.09435.   \n",
    "[2] Dataset: https://www.kaggle.com/c/malware-classification/data  \n",
    "[3] Keras Functional API: https://keras.io/models/model/  \n",
    "[4] Keras Layers: https://keras.io/layers/about-keras-layers/  \n",
    "[5] Binascii: https://docs.python.org/3/library/binascii.html  \n",
    "[6] Sample MalConv: https://github.com/j40903272/MalConv-keras  "
   ]
  },
  {
   "cell_type": "code",
   "execution_count": null,
   "metadata": {},
   "outputs": [],
   "source": []
  }
 ],
 "metadata": {
  "kernelspec": {
   "display_name": "Python 3",
   "language": "python",
   "name": "python3"
  },
  "language_info": {
   "codemirror_mode": {
    "name": "ipython",
    "version": 3
   },
   "file_extension": ".py",
   "mimetype": "text/x-python",
   "name": "python",
   "nbconvert_exporter": "python",
   "pygments_lexer": "ipython3",
   "version": "3.7.4"
  }
 },
 "nbformat": 4,
 "nbformat_minor": 2
}
